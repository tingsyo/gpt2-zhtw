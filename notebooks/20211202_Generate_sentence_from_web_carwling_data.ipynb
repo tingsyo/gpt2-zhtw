{
 "cells": [
  {
   "cell_type": "markdown",
   "id": "0274a9b1",
   "metadata": {},
   "source": [
    "# Generating Representative Sentences from Web Crawling Data\n",
    "\n",
    "In this notebook, we try to implement methods that generating sentences from source-articles and term-frequency data.\n",
    "\n",
    "## DATA API\n",
    "- PTT\n",
    "    + Deployeed on: http://52.26.156.12:8000/\n",
    "    + Two functions:\n",
    "        * get_json: return json as a string\n",
    "            - http://52.26.156.12:8000/get_json/?item_type=termscores&item_date=2021-11-09\n",
    "            - http://52.26.156.12:8000/get_json/?item_type=posts&item_date=2021-11-09\n",
    "        * get_file: return file object (.csv)"
   ]
  },
  {
   "cell_type": "code",
   "execution_count": 1,
   "id": "6a814e17",
   "metadata": {},
   "outputs": [
    {
     "name": "stdout",
     "output_type": "stream",
     "text": [
      "<Response [200]>\n"
     ]
    }
   ],
   "source": [
    "import requests\n",
    "import json\n",
    "\n",
    "posts = requests.get('http://52.26.156.12:4001/get_json/?item_type=posts')\n",
    "tfreq = requests.get('http://52.26.156.12:4001/get_json/?item_type=termscores')\n",
    "\n",
    "print(posts)"
   ]
  },
  {
   "cell_type": "code",
   "execution_count": 2,
   "id": "18954fa2",
   "metadata": {},
   "outputs": [
    {
     "name": "stderr",
     "output_type": "stream",
     "text": [
      "C:\\Users\\tsyo\\AppData\\Local\\Continuum\\anaconda3\\lib\\site-packages\\numpy\\_distributor_init.py:32: UserWarning: loaded more than 1 DLL from .libs:\n",
      "C:\\Users\\tsyo\\AppData\\Local\\Continuum\\anaconda3\\lib\\site-packages\\numpy\\.libs\\libopenblas.NOIJJG62EMASZI6NYURL6JBKM4EVBGM7.gfortran-win_amd64.dll\n",
      "C:\\Users\\tsyo\\AppData\\Local\\Continuum\\anaconda3\\lib\\site-packages\\numpy\\.libs\\libopenblas.QVLO2T66WEPI7JZ63PS3HMOHFEY472BC.gfortran-win_amd64.dll\n",
      "  stacklevel=1)\n"
     ]
    },
    {
     "name": "stdout",
     "output_type": "stream",
     "text": [
      "                   id                     title        author  \\\n",
      "0  M.1638436945.A.7B3  [新聞] 綠名嘴：林秉樞有計畫滲透本土陣營 涉國  knight791211   \n",
      "1  M.1638400512.A.D63   [新聞] 林秉樞被收押再爆「高嘉瑜應該很開心啦        lycppt   \n",
      "2  M.1638430101.A.78B  [新聞] 林秉樞嗆殺前女友判決公開了！案號「新北        jackhg   \n",
      "3  M.1638452388.A.277   [新聞] 快訊／林口無預警大停電　居民崩潰：洗      GETpoint   \n",
      "4  M.1638416465.A.9AF  [新聞] 高嘉瑜遭家暴登國際版面　南韓媒體報導、        zuvupa   \n",
      "\n",
      "                                                link  \\\n",
      "0  https://www.ptt.cc/bbs/Gossiping/M.1638436945....   \n",
      "1  https://www.ptt.cc/bbs/Gossiping/M.1638400512....   \n",
      "2  https://www.ptt.cc/bbs/Gossiping/M.1638430101....   \n",
      "3  https://www.ptt.cc/bbs/Gossiping/M.1638452388....   \n",
      "4  https://www.ptt.cc/bbs/Gossiping/M.1638416465....   \n",
      "\n",
      "                                             content  n_comments  n_push  \\\n",
      "0  \\n備註請放最後面 違者新聞文章刪除\\n\\n1.媒體來源:\\n聯合新聞網\\n\\n2.記者署名...        1223     739   \n",
      "1  \\n蘋果日報\\n林秉樞被收押再爆「高嘉瑜應該很開心啦！」　很多人在罵總統「她也很開心啊！」\\...        1074     568   \n",
      "2  \\n\\n1.媒體來源:自由時報\\n\\n\\n2.記者署名:記者吳政峰／台北報導\\n\\n\\n3....         992     549   \n",
      "3  \\n備註請放最後面 違者新聞文章刪除\\n\\n1.媒體來源:\\n\\nETtoday新聞雲\\n\\...         738     454   \n",
      "4  \\n高嘉瑜遭家暴登國際版面　南韓媒體報導、日媒關注批男太渣\\n\\n三立\\n\\n國際中心／陳佳...         725     444   \n",
      "\n",
      "   n_neutral  n_sheesh date_created date_updated  \n",
      "0        371       113   2021-12-02   2021-12-03  \n",
      "1        388       118   2021-12-02   2021-12-03  \n",
      "2        369        74   2021-12-02   2021-12-03  \n",
      "3        229        55   2021-12-02   2021-12-03  \n",
      "4        244        37   2021-12-02   2021-12-03  \n"
     ]
    }
   ],
   "source": [
    "import pandas as pd\n",
    "\n",
    "posts = pd.DataFrame(eval(posts.text))\n",
    "print(posts.head())"
   ]
  },
  {
   "cell_type": "code",
   "execution_count": 3,
   "id": "dcfc23aa",
   "metadata": {},
   "outputs": [
    {
     "name": "stdout",
     "output_type": "stream",
     "text": [
      "  term      score\n",
      "0   林秉  32.518803\n",
      "1  高嘉瑜  27.970257\n",
      "2   台北  21.824998\n",
      "3  吳政峰  13.799446\n",
      "4   台灣  11.920594\n",
      "5  太魯閣  11.911675\n",
      "6  張君豪  11.473145\n",
      "7   黃男  11.434055\n",
      "8  帥哥寶  11.090355\n",
      "9  加拿大  11.047396\n"
     ]
    }
   ],
   "source": [
    "tfreq = pd.DataFrame(eval(tfreq.text))\n",
    "print(tfreq.head(10))"
   ]
  },
  {
   "cell_type": "code",
   "execution_count": 4,
   "id": "0730dcd3",
   "metadata": {},
   "outputs": [
    {
     "name": "stdout",
     "output_type": "stream",
     "text": [
      "\n",
      "備註請放最後面 違者新聞文章刪除\n",
      "\n",
      "1.媒體來源:\n",
      "聯合新聞網\n",
      "\n",
      "2.記者署名:\n",
      "記者林政忠／即時報導\n",
      "\n",
      "\n",
      "3.完整新聞標題:\n",
      "綠名嘴：林秉樞有計畫滲透本土陣營 涉國安問題\n",
      "\n",
      "4.完整新聞內文:\n",
      "民進黨立委高嘉瑜遭男友林秉樞施暴，林秉樞被各界起底。名嘴溫朗東今天在臉書貼文指\n",
      "出，林秉樞冒充國安高層、長期住在容易交付資金跟資料的飯店，甚至2018年9月30日在\n",
      "思想坦克發表文章，主張台灣有揮舞五星旗的自由。\n",
      "\n",
      "溫朗東質疑，林秉樞2013年的碩士論文指導教授是經常往返兩岸、提倡中國配偶權益的楊\n",
      "君仁；林在政大政治博士班做中國研究，網路專欄、對綠營政治人物的政治獻金，都在\n",
      "2018年中啟動，開始密集向綠營捐款，「林秉樞是有計畫性的滲透進本土陣營，這是標準\n",
      "的國安問題」。\n",
      "\n",
      "\n",
      "5.完整新聞連結 (或短網址):\n",
      "\n"
     ]
    }
   ],
   "source": [
    "print(posts['content'].iloc[0])"
   ]
  },
  {
   "cell_type": "code",
   "execution_count": 5,
   "id": "b9924c01",
   "metadata": {},
   "outputs": [
    {
     "name": "stdout",
     "output_type": "stream",
     "text": [
      "['備註請放最後面 違者新聞文章刪除', '聯合新聞網', '記者林政忠', '完整新聞標題', '林秉樞有計畫滲透本土陣營 涉國安問題', '完整新聞內文', '民進黨立委高嘉瑜遭男友林秉樞施暴', '林秉樞被各界起底', '名嘴溫朗東今天在臉書貼文指', '林秉樞冒充國安高層、長期住在容易交付資金跟資料的飯店', '甚至2018年9月30日在', '思想坦克發表文章', '主張台灣有揮舞五星旗的自由', '溫朗東質疑', '林秉樞2013年的碩士論文指導教授是經常往返兩岸、提倡中國配偶權益的楊', '林在政大政治博士班做中國研究', '網路專欄、對綠營政治人物的政治獻金', '2018年中啟動', '開始密集向綠營捐款', '林秉樞是有計畫性的滲透進本土陣營', '的國安問題', '完整新聞連結 (或短網址)']\n"
     ]
    }
   ],
   "source": [
    "def article_to_sentences(article, min_length=5):\n",
    "    ''' Parse an article into a list sentences. '''\n",
    "    # Define sentence-break symbols\n",
    "    bs = ['\\n','，','。','；','！','？','「','」','.',':','（','）','／','　','~','：']\n",
    "    # Loop through the article character-by-character\n",
    "    sentences = []\n",
    "    tmp = []\n",
    "    for char in article:\n",
    "        if not char in bs:\n",
    "            tmp.append(char)\n",
    "        else:\n",
    "            if len(tmp)>=min_length:\n",
    "                sentences.append(''.join(tmp).strip())\n",
    "            tmp = []\n",
    "    return(sentences)\n",
    "\n",
    "sentences = article_to_sentences(posts['content'].iloc[0])\n",
    "print(sentences)"
   ]
  },
  {
   "cell_type": "code",
   "execution_count": 6,
   "id": "a4abe890",
   "metadata": {},
   "outputs": [
    {
     "name": "stdout",
     "output_type": "stream",
     "text": [
      "                               sentence     score\n",
      "0                      備註請放最後面 違者新聞文章刪除  0.006235\n",
      "1                                 聯合新聞網  0.117250\n",
      "2                                 記者林政忠  0.140703\n",
      "3                                完整新聞標題  0.075216\n",
      "4                    林秉樞有計畫滲透本土陣營 涉國安問題  0.022502\n",
      "5                                完整新聞內文  0.075176\n",
      "6                      民進黨立委高嘉瑜遭男友林秉樞施暴  0.035229\n",
      "7                              林秉樞被各界起底  0.049957\n",
      "8                         名嘴溫朗東今天在臉書貼文指  0.037363\n",
      "9            林秉樞冒充國安高層、長期住在容易交付資金跟資料的飯店  0.019265\n",
      "10                        甚至2018年9月30日在  0.049918\n",
      "11                             思想坦克發表文章  0.042990\n",
      "12                        主張台灣有揮舞五星旗的自由  0.067028\n",
      "13                                溫朗東質疑  0.152365\n",
      "14  林秉樞2013年的碩士論文指導教授是經常往返兩岸、提倡中國配偶權益的楊  0.020723\n",
      "15                       林在政大政治博士班做中國研究  0.071705\n",
      "16                    網路專欄、對綠營政治人物的政治獻金  0.016970\n",
      "17                             2018年中啟動  0.083009\n",
      "18                            開始密集向綠營捐款  0.003944\n",
      "19                     林秉樞是有計畫性的滲透進本土陣營  0.026503\n",
      "20                                的國安問題  0.093048\n",
      "21                        完整新聞連結 (或短網址)  0.016876\n"
     ]
    }
   ],
   "source": [
    "from sentence_transformers import SentenceTransformer, util\n",
    "\n",
    "SENTENCE_TRANSFORMER_PATH = 'D:/workspace/language_models/distiluse-base-multilingual-cased-v2/'\n",
    "st = SentenceTransformer(SENTENCE_TRANSFORMER_PATH)\n",
    "\n",
    "N_TERMS = 10\n",
    "\n",
    "term_embeddings = st.encode(list(tfreq['term'].iloc[:N_TERMS]))\n",
    "term_weights = list(tfreq['score'].iloc[:N_TERMS])\n",
    "\n",
    "def evaluate_sentence_embedding(se, term_embeddings, term_weights):\n",
    "    import numpy as np\n",
    "    score = 0\n",
    "    for i in range(len(term_embeddings)):\n",
    "        score+=np.dot(se, term_embeddings[i])*term_weights[i]\n",
    "    score = score/sum(term_weights)\n",
    "    return(score)\n",
    "\n",
    "sent_scores = []\n",
    "for s in sentences:\n",
    "    se = st.encode(s)\n",
    "    sent_scores.append(evaluate_sentence_embedding(se, term_embeddings, term_weights))\n",
    "    \n",
    "results = pd.DataFrame({'sentence':sentences, 'score':sent_scores})\n",
    "print(results)"
   ]
  },
  {
   "cell_type": "code",
   "execution_count": 7,
   "id": "1a26a2eb",
   "metadata": {},
   "outputs": [
    {
     "name": "stdout",
     "output_type": "stream",
     "text": [
      "                               sentence     score\n",
      "13                                溫朗東質疑  0.152365\n",
      "2                                 記者林政忠  0.140703\n",
      "1                                 聯合新聞網  0.117250\n",
      "20                                的國安問題  0.093048\n",
      "17                             2018年中啟動  0.083009\n",
      "3                                完整新聞標題  0.075216\n",
      "5                                完整新聞內文  0.075176\n",
      "15                       林在政大政治博士班做中國研究  0.071705\n",
      "12                        主張台灣有揮舞五星旗的自由  0.067028\n",
      "7                              林秉樞被各界起底  0.049957\n",
      "10                        甚至2018年9月30日在  0.049918\n",
      "11                             思想坦克發表文章  0.042990\n",
      "8                         名嘴溫朗東今天在臉書貼文指  0.037363\n",
      "6                      民進黨立委高嘉瑜遭男友林秉樞施暴  0.035229\n",
      "19                     林秉樞是有計畫性的滲透進本土陣營  0.026503\n",
      "4                    林秉樞有計畫滲透本土陣營 涉國安問題  0.022502\n",
      "14  林秉樞2013年的碩士論文指導教授是經常往返兩岸、提倡中國配偶權益的楊  0.020723\n",
      "9            林秉樞冒充國安高層、長期住在容易交付資金跟資料的飯店  0.019265\n",
      "16                    網路專欄、對綠營政治人物的政治獻金  0.016970\n",
      "21                        完整新聞連結 (或短網址)  0.016876\n",
      "0                      備註請放最後面 違者新聞文章刪除  0.006235\n",
      "18                            開始密集向綠營捐款  0.003944\n"
     ]
    }
   ],
   "source": [
    "print(results.sort_values('score', ascending=False))"
   ]
  },
  {
   "cell_type": "code",
   "execution_count": 9,
   "id": "09b0c0b0",
   "metadata": {},
   "outputs": [
    {
     "name": "stdout",
     "output_type": "stream",
     "text": [
      "                               sentence     score\n",
      "10                                溫朗東質疑  0.152365\n",
      "1                                 記者林政忠  0.140703\n",
      "17                                的國安問題  0.093048\n",
      "14                             2018年中啟動  0.083009\n",
      "12                       林在政大政治博士班做中國研究  0.071705\n",
      "9                         主張台灣有揮舞五星旗的自由  0.067028\n",
      "4                              林秉樞被各界起底  0.049957\n",
      "7                         甚至2018年9月30日在  0.049918\n",
      "8                              思想坦克發表文章  0.042990\n",
      "5                         名嘴溫朗東今天在臉書貼文指  0.037363\n",
      "3                      民進黨立委高嘉瑜遭男友林秉樞施暴  0.035229\n",
      "16                     林秉樞是有計畫性的滲透進本土陣營  0.026503\n",
      "2                    林秉樞有計畫滲透本土陣營 涉國安問題  0.022502\n",
      "11  林秉樞2013年的碩士論文指導教授是經常往返兩岸、提倡中國配偶權益的楊  0.020723\n",
      "6            林秉樞冒充國安高層、長期住在容易交付資金跟資料的飯店  0.019265\n",
      "13                    網路專欄、對綠營政治人物的政治獻金  0.016970\n",
      "18                        完整新聞連結 (或短網址)  0.016876\n",
      "0                      備註請放最後面 違者新聞文章刪除  0.006235\n",
      "15                            開始密集向綠營捐款  0.003944\n"
     ]
    }
   ],
   "source": [
    "stop_words = ['ETtoday','CrazyWinnie', 'ETTODAY', 'YAHOO新聞','聯合新聞網', '-----', '東森新聞','完整新聞標題','完整新聞內文']\n",
    "\n",
    "sent = []\n",
    "sent_scores = []\n",
    "# Loop through articles\n",
    "for i in range(3):\n",
    "    article = posts['content'].iloc[i]\n",
    "    sentences = article_to_sentences(article)\n",
    "    # Loop through sentences\n",
    "    for s in sentences:\n",
    "        if not s in stop_words:\n",
    "            se = st.encode(s)\n",
    "            sent.append(s)\n",
    "            sent_scores.append(evaluate_sentence_embedding(se, term_embeddings, term_weights))\n",
    "    # Check total number of sentences\n",
    "    if len(sent_scores)>=10:\n",
    "        break\n",
    "\n",
    "results = pd.DataFrame({'sentence':sent, 'score':sent_scores})\n",
    "print(results.sort_values('score', ascending=False))"
   ]
  },
  {
   "cell_type": "code",
   "execution_count": null,
   "id": "980849d6",
   "metadata": {},
   "outputs": [],
   "source": []
  }
 ],
 "metadata": {
  "kernelspec": {
   "display_name": "Python 3 (ipykernel)",
   "language": "python",
   "name": "python3"
  },
  "language_info": {
   "codemirror_mode": {
    "name": "ipython",
    "version": 3
   },
   "file_extension": ".py",
   "mimetype": "text/x-python",
   "name": "python",
   "nbconvert_exporter": "python",
   "pygments_lexer": "ipython3",
   "version": "3.7.11"
  }
 },
 "nbformat": 4,
 "nbformat_minor": 5
}
