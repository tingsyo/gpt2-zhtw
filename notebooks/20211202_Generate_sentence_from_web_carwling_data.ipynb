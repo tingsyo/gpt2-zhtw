{
 "cells": [
  {
   "cell_type": "markdown",
   "id": "0274a9b1",
   "metadata": {},
   "source": [
    "# Generating Representative Sentences from Web Crawling Data\n",
    "\n",
    "In this notebook, we try to implement methods that generating sentences from source-articles and term-frequency data.\n",
    "\n",
    "## DATA API\n",
    "- PTT\n",
    "    + Deployeed on: http://52.26.156.12:8000/\n",
    "    + Two functions:\n",
    "        * get_json: return json as a string\n",
    "            - http://52.26.156.12:8000/get_json/?item_type=termscores&item_date=2021-11-09\n",
    "            - http://52.26.156.12:8000/get_json/?item_type=posts&item_date=2021-11-09\n",
    "        * get_file: return file object (.csv)"
   ]
  },
  {
   "cell_type": "code",
   "execution_count": 9,
   "id": "6a814e17",
   "metadata": {},
   "outputs": [
    {
     "name": "stdout",
     "output_type": "stream",
     "text": [
      "<Response [200]>\n"
     ]
    }
   ],
   "source": [
    "import requests\n",
    "import json\n",
    "\n",
    "posts = requests.get('http://52.26.156.12:4001/get_json/?item_type=posts')\n",
    "tfreq = requests.get('http://52.26.156.12:4001/get_json/?item_type=termscores')\n",
    "\n",
    "print(posts)"
   ]
  },
  {
   "cell_type": "code",
   "execution_count": 12,
   "id": "18954fa2",
   "metadata": {},
   "outputs": [
    {
     "name": "stdout",
     "output_type": "stream",
     "text": [
      "                   id                          title    author  \\\n",
      "0  M.1638329725.A.75F       [新聞] 多圖／高嘉瑜遭男友林秉樞暴打「驚悚傷勢     duise   \n",
      "1  M.1638365035.A.B3D        [新聞] 獨／男友視角照帶風向「沒品維尼」真實    qishuv   \n",
      "2  M.1638357037.A.FD5  Re: [新聞] 新女友？高嘉瑜男友飯店被捕 1長髮女陪伴   zoe5566   \n",
      "3  M.1638314104.A.853        [新聞] 打到高嘉瑜全身傷　「男友老家整晚亮燈  hsnugear   \n",
      "4  M.1638327947.A.546      [新聞] 新女友？高嘉瑜男友飯店被捕 1長髮女陪伴    murray   \n",
      "\n",
      "                                                link  \\\n",
      "0  https://www.ptt.cc/bbs/Gossiping/M.1638329725....   \n",
      "1  https://www.ptt.cc/bbs/Gossiping/M.1638365035....   \n",
      "2  https://www.ptt.cc/bbs/Gossiping/M.1638357037....   \n",
      "3  https://www.ptt.cc/bbs/Gossiping/M.1638314104....   \n",
      "4  https://www.ptt.cc/bbs/Gossiping/M.1638327947....   \n",
      "\n",
      "                                             content  n_comments  n_push  \\\n",
      "0  \\n1.媒體來源:\\n三立\\n\\n2.記者署名:\\n許皓婷\\n\\n3.完整新聞標題:\\n多圖...        1290     801   \n",
      "1  \\n獨／男友視角照帶風向「沒品維尼」真實身分是他！暗黑操作驚曝光\\n\\n2021年12月01...        1214     745   \n",
      "2  \\n大家好，我大麻莉絲啦\\n關於這個林秉樞我剛好也是略懂略懂\\n大概是2017年左右我還在歐...        1198     910   \n",
      "3  \\n1.媒體來源:\\nETtoday\\n\\n\\n2.記者署名:\\n黃翊婷\\n\\n\\n3.完整...         972     605   \n",
      "4  \\n1.媒體來源:\\n自由\\n\\n2.記者署名:\\n徐聖倫\\n\\n3.完整新聞標題:\\n新女...         688     384   \n",
      "\n",
      "   n_neutral  n_sheesh date_created date_updated  \n",
      "0        399        90   2021-12-01   2021-12-02  \n",
      "1        403        66   2021-12-01   2021-12-02  \n",
      "2        245        43   2021-12-01   2021-12-02  \n",
      "3        327        40   2021-12-01   2021-12-02  \n",
      "4        268        36   2021-12-01   2021-12-02  \n"
     ]
    }
   ],
   "source": [
    "import pandas as pd\n",
    "\n",
    "posts = pd.DataFrame(eval(posts.text))\n",
    "print(posts.head())"
   ]
  },
  {
   "cell_type": "code",
   "execution_count": 35,
   "id": "dcfc23aa",
   "metadata": {},
   "outputs": [
    {
     "name": "stdout",
     "output_type": "stream",
     "text": [
      "  term      score\n",
      "0  高嘉瑜  66.650234\n",
      "1   林秉  36.324876\n",
      "2   新北  24.005165\n",
      "3   施暴  23.549037\n",
      "4   林男  16.387003\n",
      "5  蔡詩萍  14.176818\n",
      "6  民進黨  13.461002\n",
      "7   台北  13.088543\n",
      "8  陳其邁  12.549524\n",
      "9   老公  12.231784\n"
     ]
    }
   ],
   "source": [
    "#tfreq = pd.DataFrame(eval(tfreq.text))\n",
    "print(tfreq.head(10))"
   ]
  },
  {
   "cell_type": "code",
   "execution_count": 14,
   "id": "0730dcd3",
   "metadata": {},
   "outputs": [
    {
     "name": "stdout",
     "output_type": "stream",
     "text": [
      "\n",
      "1.媒體來源:\n",
      "三立\n",
      "\n",
      "2.記者署名:\n",
      "許皓婷\n",
      "\n",
      "3.完整新聞標題:\n",
      "多圖／高嘉瑜遭男友林秉樞暴打　「驚悚傷勢照」曝光\n",
      "\n",
      "4.完整新聞內文:\n",
      "民進黨立委高嘉瑜驚傳遭男友林秉樞虐打，導致她右臉、頭部、四肢多處挫傷，引發社會\n",
      "關注，她昨日向男方提告傷害罪後，今（1日）在律師李永裕陪同下，在立法院議場廣場\n",
      "召開記者會，對外說明家暴始末。\n",
      "\n",
      "高嘉瑜遭到男友林秉樞暴打，她在遭毆後3天前往醫院驗傷，只見她除了右眼嚴重瘀青、\n",
      "嘴唇、嘴角都有傷口，右臉腫了半邊，脖子還有出現勒痕，雙腳和雙手關節也有傷勢，她\n",
      "的兩腳膝蓋更破皮、流血。\n",
      "\n",
      "\n"
     ]
    }
   ],
   "source": [
    "print(posts['content'].iloc[0])"
   ]
  },
  {
   "cell_type": "code",
   "execution_count": 52,
   "id": "b9924c01",
   "metadata": {},
   "outputs": [
    {
     "name": "stdout",
     "output_type": "stream",
     "text": [
      "['完整新聞標題', '高嘉瑜遭男友林秉樞暴打', '驚悚傷勢照', '完整新聞內文', '民進黨立委高嘉瑜驚傳遭男友林秉樞虐打', '導致她右臉、頭部、四肢多處挫傷', '她昨日向男方提告傷害罪後', '在律師李永裕陪同下', '在立法院議場廣場', '召開記者會', '對外說明家暴始末', '高嘉瑜遭到男友林秉樞暴打', '她在遭毆後3天前往醫院驗傷', '只見她除了右眼嚴重瘀青、', '嘴唇、嘴角都有傷口', '右臉腫了半邊', '脖子還有出現勒痕', '雙腳和雙手關節也有傷勢', '的兩腳膝蓋更破皮、流血']\n"
     ]
    }
   ],
   "source": [
    "def article_to_sentences(article, min_length=5):\n",
    "    ''' Parse an article into a list sentences. '''\n",
    "    # Define sentence-break symbols\n",
    "    bs = ['\\n','，','。','；','！','？','「','」','.',':','（','）','／','　','~','：']\n",
    "    # Loop through the article character-by-character\n",
    "    sentences = []\n",
    "    tmp = []\n",
    "    for char in article:\n",
    "        if not char in bs:\n",
    "            tmp.append(char)\n",
    "        else:\n",
    "            if len(tmp)>=min_length:\n",
    "                sentences.append(''.join(tmp).strip())\n",
    "            tmp = []\n",
    "    return(sentences)\n",
    "\n",
    "sentences = article_to_sentences(posts['content'].iloc[0])\n",
    "print(sentences)"
   ]
  },
  {
   "cell_type": "code",
   "execution_count": 39,
   "id": "a4abe890",
   "metadata": {},
   "outputs": [
    {
     "name": "stdout",
     "output_type": "stream",
     "text": [
      "              sentence     score\n",
      "0               完整新聞標題  0.075799\n",
      "1          高嘉瑜遭男友林秉樞暴打  0.054871\n",
      "2                驚悚傷勢照  0.092145\n",
      "3               完整新聞內文  0.075648\n",
      "4   民進黨立委高嘉瑜驚傳遭男友林秉樞虐打  0.039276\n",
      "5      導致她右臉、頭部、四肢多處挫傷  0.007668\n",
      "6         她昨日向男方提告傷害罪後  0.001679\n",
      "7            在律師李永裕陪同下  0.062693\n",
      "8             在立法院議場廣場  0.071100\n",
      "9                召開記者會  0.097837\n",
      "10            對外說明家暴始末  0.029892\n",
      "11        高嘉瑜遭到男友林秉樞暴打  0.052798\n",
      "12       她在遭毆後3天前往醫院驗傷 -0.010710\n",
      "13        只見她除了右眼嚴重瘀青、  0.009590\n",
      "14           嘴唇、嘴角都有傷口  0.027129\n",
      "15              右臉腫了半邊  0.036700\n",
      "16            脖子還有出現勒痕  0.037781\n",
      "17         雙腳和雙手關節也有傷勢 -0.000860\n",
      "18         的兩腳膝蓋更破皮、流血  0.010876\n"
     ]
    }
   ],
   "source": [
    "from sentence_transformers import SentenceTransformer, util\n",
    "\n",
    "SENTENCE_TRANSFORMER_PATH = 'D:/workspace/language_models/distiluse-base-multilingual-cased-v2/'\n",
    "st = SentenceTransformer(SENTENCE_TRANSFORMER_PATH)\n",
    "\n",
    "N_TERMS = 10\n",
    "\n",
    "term_embeddings = st.encode(list(tfreq['term'].iloc[:N_TERMS]))\n",
    "term_weights = list(tfreq['score'].iloc[:N_TERMS])\n",
    "\n",
    "def evaluate_sentence_embedding(se, term_embeddings, term_weights):\n",
    "    import numpy as np\n",
    "    score = 0\n",
    "    for i in range(len(term_embeddings)):\n",
    "        score+=np.dot(se, term_embeddings[i])*term_weights[i]\n",
    "    score = score/sum(term_weights)\n",
    "    return(score)\n",
    "\n",
    "sent_scores = []\n",
    "for s in sentences:\n",
    "    se = st.encode(s)\n",
    "    sent_scores.append(evaluate_sentence_embedding(se, term_embeddings, term_weights))\n",
    "    \n",
    "results = pd.DataFrame({'sentence':sentences, 'score':sent_scores})\n",
    "print(results)"
   ]
  },
  {
   "cell_type": "code",
   "execution_count": 40,
   "id": "1a26a2eb",
   "metadata": {},
   "outputs": [
    {
     "name": "stdout",
     "output_type": "stream",
     "text": [
      "              sentence     score\n",
      "9                召開記者會  0.097837\n",
      "2                驚悚傷勢照  0.092145\n",
      "0               完整新聞標題  0.075799\n",
      "3               完整新聞內文  0.075648\n",
      "8             在立法院議場廣場  0.071100\n",
      "7            在律師李永裕陪同下  0.062693\n",
      "1          高嘉瑜遭男友林秉樞暴打  0.054871\n",
      "11        高嘉瑜遭到男友林秉樞暴打  0.052798\n",
      "4   民進黨立委高嘉瑜驚傳遭男友林秉樞虐打  0.039276\n",
      "16            脖子還有出現勒痕  0.037781\n",
      "15              右臉腫了半邊  0.036700\n",
      "10            對外說明家暴始末  0.029892\n",
      "14           嘴唇、嘴角都有傷口  0.027129\n",
      "18         的兩腳膝蓋更破皮、流血  0.010876\n",
      "13        只見她除了右眼嚴重瘀青、  0.009590\n",
      "5      導致她右臉、頭部、四肢多處挫傷  0.007668\n",
      "6         她昨日向男方提告傷害罪後  0.001679\n",
      "17         雙腳和雙手關節也有傷勢 -0.000860\n",
      "12       她在遭毆後3天前往醫院驗傷 -0.010710\n"
     ]
    }
   ],
   "source": [
    "print(results.sort_values('score', ascending=False))"
   ]
  },
  {
   "cell_type": "code",
   "execution_count": 60,
   "id": "09b0c0b0",
   "metadata": {},
   "outputs": [
    {
     "name": "stdout",
     "output_type": "stream",
     "text": [
      "              sentence     score\n",
      "9                召開記者會  0.097837\n",
      "2                驚悚傷勢照  0.092145\n",
      "0               完整新聞標題  0.075799\n",
      "3               完整新聞內文  0.075648\n",
      "8             在立法院議場廣場  0.071100\n",
      "7            在律師李永裕陪同下  0.062693\n",
      "1          高嘉瑜遭男友林秉樞暴打  0.054871\n",
      "11        高嘉瑜遭到男友林秉樞暴打  0.052798\n",
      "4   民進黨立委高嘉瑜驚傳遭男友林秉樞虐打  0.039276\n",
      "16            脖子還有出現勒痕  0.037781\n",
      "15              右臉腫了半邊  0.036700\n",
      "10            對外說明家暴始末  0.029892\n",
      "14           嘴唇、嘴角都有傷口  0.027129\n",
      "18         的兩腳膝蓋更破皮、流血  0.010876\n",
      "13        只見她除了右眼嚴重瘀青、  0.009590\n",
      "5      導致她右臉、頭部、四肢多處挫傷  0.007668\n",
      "6         她昨日向男方提告傷害罪後  0.001679\n",
      "17         雙腳和雙手關節也有傷勢 -0.000860\n",
      "12       她在遭毆後3天前往醫院驗傷 -0.010710\n"
     ]
    }
   ],
   "source": [
    "stop_words = ['ETtoday','CrazyWinnie', 'ETTODAY', 'YAHOO新聞', '-----', '東森新聞']\n",
    "\n",
    "sent = []\n",
    "sent_scores = []\n",
    "# Loop through articles\n",
    "for i in range(3):\n",
    "    article = posts['content'].iloc[i]\n",
    "    sentences = article_to_sentences(article)\n",
    "    # Loop through sentences\n",
    "    for s in sentences:\n",
    "        if not s in stop_words:\n",
    "            se = st.encode(s)\n",
    "            sent.append(s)\n",
    "            sent_scores.append(evaluate_sentence_embedding(se, term_embeddings, term_weights))\n",
    "    # Check total number of sentences\n",
    "    if len(sent_scores)>=10:\n",
    "        break\n",
    "\n",
    "results = pd.DataFrame({'sentence':sent, 'score':sent_scores})\n",
    "print(results.sort_values('score', ascending=False))"
   ]
  },
  {
   "cell_type": "code",
   "execution_count": null,
   "id": "980849d6",
   "metadata": {},
   "outputs": [],
   "source": []
  }
 ],
 "metadata": {
  "kernelspec": {
   "display_name": "Python 3 (ipykernel)",
   "language": "python",
   "name": "python3"
  },
  "language_info": {
   "codemirror_mode": {
    "name": "ipython",
    "version": 3
   },
   "file_extension": ".py",
   "mimetype": "text/x-python",
   "name": "python",
   "nbconvert_exporter": "python",
   "pygments_lexer": "ipython3",
   "version": "3.7.11"
  }
 },
 "nbformat": 4,
 "nbformat_minor": 5
}
