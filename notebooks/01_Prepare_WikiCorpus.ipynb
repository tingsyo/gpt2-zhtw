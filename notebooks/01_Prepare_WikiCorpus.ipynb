{
 "cells": [
  {
   "cell_type": "markdown",
   "metadata": {},
   "source": [
    "# 從 Wikipedia 取得中文語料\n",
    "\n",
    "Wikipedia 提供了可離線使用的資料庫，我們可以很方便的從 **[維基百科:資料庫下載](https://zh.wikipedia.org/wiki/Wikipedia:%E6%95%B0%E6%8D%AE%E5%BA%93%E4%B8%8B%E8%BD%BD)** 取得最新的資料集。以 2021-02-01 為例，中文語料的壓縮檔下載大小約為 2.1G，我們可以透過以下方式取得。"
   ]
  },
  {
   "cell_type": "code",
   "execution_count": 1,
   "metadata": {},
   "outputs": [
    {
     "data": {
      "text/plain": [
       "705631"
      ]
     },
     "execution_count": 1,
     "metadata": {},
     "output_type": "execute_result"
    }
   ],
   "source": [
    "#remote_url = 'https://dumps.wikimedia.org/zhwiki/20210201/zhwiki-20210201-pages-articles-multistream1.xml-p1p187712.bz2'\n",
    "#local_url = 'D:\\data\\corpus\\zhwiki-20210201-pages-articles-multistream.xml.bz2'\n",
    "\n",
    "remote_url = 'https://dumps.wikimedia.org/zhwiki/20210201/zhwiki-20210201-pages-articles-multistream-index1.txt-p1p187712.bz2'\n",
    "local_url = 'D:\\data\\corpus\\zhwiki-20210201-pages-articles-multistream-index1.txt-p1p187712.bz2'\n",
    "\n",
    "import requests\n",
    "\n",
    "myfile = requests.get(remote_url)\n",
    "open(local_url, 'wb').write(myfile.content)"
   ]
  },
  {
   "cell_type": "markdown",
   "metadata": {},
   "source": [
    "## 解析 Wikipedia dumps\n",
    "\n",
    "Wikipedia dumps 是壓縮的 XML 檔案，裡面充滿了標籤，我們可以用 [`gensim.corpora.WikiCorpus`](https://radimrehurek.com/gensim/corpora/wikicorpus.html) 內建的解析器來擷取想要的內容。\n",
    "\n",
    "> `classgensim.corpora.wikicorpus.WikiCorpus`(fname, processes=None, lemmatize=False, dictionary=None, filter_namespaces=('0', ), tokenizer_func=<function tokenize>, article_min_tokens=50, token_min_len=2, token_max_len=15, lower=True, filter_articles=None)\n",
    "\n",
    "    \n",
    "從官方文件中我們可以看到，`WikiCorpus` 會自動篩選至少50個詞彙的內容，完整的參數說明如下：\n",
    "\n",
    "**Parameters**\n",
    "- **fname (str)** : Path to the Wikipedia dump file.\n",
    "- **processes (int, optional)** : Number of processes to run, defaults to max(1, number of cpu - 1).\n",
    "- **lemmatize (bool)** : Use lemmatization instead of simple regexp tokenization. Defaults to True if you have the pattern package installed.\n",
    "- **dictionary (Dictionary, optional)** : Dictionary, if not provided, this scans the corpus once, to determine its vocabulary IMPORTANT: this needs a really long time.\n",
    "- **filter_namespaces (tuple of str, optional)** : Namespaces to consider.\n",
    "- **tokenizer_func (function, optional)** : Function that will be used for tokenization. By default, use tokenize(). If you inject your own tokenizer, it must conform to this interface: tokenizer_func(text: str, token_min_len: int, token_max_len: int, lower: bool) -> list of str\n",
    "- **article_min_tokens (int, optional)** : Minimum tokens in article. Article will be ignored if number of tokens is less.\n",
    "- **token_min_len (int, optional)** : Minimal token length.\n",
    "- **token_max_len (int, optional)** : Maximal token length.\n",
    "- **lower (bool, optional)** : If True - convert all text to lower case.\n",
    "- **filter_articles (callable or None, optional)** : If set, each XML article element will be passed to this callable before being processed. Only articles where the callable returns an XML element are processed, returning None allows filtering out some articles based on customised rules."
   ]
  },
  {
   "cell_type": "code",
   "execution_count": 4,
   "metadata": {},
   "outputs": [
    {
     "name": "stdout",
     "output_type": "stream",
     "text": [
      "已處理 10000 篇文章\n",
      "已處理 20000 篇文章\n",
      "已處理 30000 篇文章\n",
      "已處理 40000 篇文章\n",
      "已處理 50000 篇文章\n",
      "已處理 60000 篇文章\n",
      "已處理 70000 篇文章\n",
      "已處理 80000 篇文章\n",
      "已處理 90000 篇文章\n",
      "已處理 100000 篇文章\n",
      "已處理 110000 篇文章\n",
      "已處理 120000 篇文章\n",
      "已處理 130000 篇文章\n",
      "已處理 140000 篇文章\n",
      "已處理 150000 篇文章\n",
      "已處理 160000 篇文章\n",
      "已處理 170000 篇文章\n",
      "已處理 180000 篇文章\n",
      "已處理 190000 篇文章\n",
      "已處理 200000 篇文章\n",
      "已處理 210000 篇文章\n",
      "已處理 220000 篇文章\n",
      "已處理 230000 篇文章\n",
      "已處理 240000 篇文章\n",
      "已處理 250000 篇文章\n",
      "已處理 260000 篇文章\n",
      "已處理 270000 篇文章\n",
      "已處理 280000 篇文章\n",
      "已處理 290000 篇文章\n",
      "已處理 300000 篇文章\n",
      "已處理 310000 篇文章\n",
      "已處理 320000 篇文章\n",
      "已處理 330000 篇文章\n",
      "已處理 340000 篇文章\n",
      "已處理 350000 篇文章\n",
      "已處理 360000 篇文章\n",
      "已處理 370000 篇文章\n",
      "已處理 380000 篇文章\n"
     ]
    }
   ],
   "source": [
    "from gensim.corpora import WikiCorpus\n",
    "\n",
    "local_url = 'D:\\data\\corpus\\zhwiki-20210201-pages-articles-multistream.xml.bz2'\n",
    "outputfile = 'D:\\data\\corpus\\zhwiki-20210201.txt'\n",
    "\n",
    "# 1. Initialize WikiCorpus\n",
    "wiki_corpus = WikiCorpus(local_url, dictionary={})\n",
    "texts_num = 0\n",
    "\n",
    "# 2. Proceed conversion\n",
    "with open(outputfile,'w',encoding='utf-8') as output:\n",
    "    for text in wiki_corpus.get_texts():\n",
    "        output.write(' '.join(text) + '\\n')\n",
    "        texts_num += 1\n",
    "        if texts_num % 10000 == 0:\n",
    "            print(\"已處理 %d 篇文章\" % texts_num)\n",
    "            \n"
   ]
  },
  {
   "cell_type": "code",
   "execution_count": 6,
   "metadata": {},
   "outputs": [
    {
     "name": "stdout",
     "output_type": "stream",
     "text": [
      "歐幾里得 西元前三世紀的古希臘數學家 現在被認為是幾何之父 此畫為拉斐爾的作品 雅典學院 数学 是利用符号语言研究數量 结构 变化以及空间等概念的一門学科 从某种角度看屬於形式科學的一種 數學透過抽象化和邏輯推理的使用 由計數 計算 數學家們拓展這些概念 對數學基本概念的完善 早在古埃及 而在古希臘那裡有更為嚴謹的處理 從那時開始 數學的發展便持續不斷地小幅進展 世紀的文藝復興時期 致使數學的加速发展 直至今日 今日 數學使用在不同的領域中 包括科學 工程 醫學 經濟學和金融學等 有時亦會激起新的數學發現 並導致全新學科的發展 數學家也研究純數學 就是數學本身的实质性內容 而不以任何實際應用為目標 雖然許多研究以純數學開始 但其过程中也發現許多應用之处 詞源 西方语言中 數學 一詞源自於古希臘語的 其有 學習 學問 科學 數學研究 即使在其語源內 其形容詞 意思為 和學習有關的 用功的 亦會被用來指 數學的 其在英语中表面上的複數形式 及在法语中的表面複數形式 可溯至拉丁文的中性複數 由西塞罗譯自希臘文複數 此一希臘語被亚里士多德拿來指 萬物皆數 的概念 汉字表示的 數學 一詞大約产生于中国宋元時期 多指象數之學 但有時也含有今天上的數學意義 例如 秦九韶的 數學九章 永樂大典 數書九章 也被宋代周密所著的 癸辛雜識 記爲 數學大略 數學通軌 明代柯尚遷著 数学钥 清代杜知耕著 數學拾遺 清代丁取忠撰 直到 經過中國數學名詞審查委員會研究 算學 數學 兩詞的使用狀況後 確認以 數學 表示今天意義上的數學含義 历史 奇普 印加帝國時所使用的計數工具 玛雅数字 數學有着久遠的歷史 中國古代的六艺之一就有 數學一詞在西方有希腊语詞源 mathematikós 意思是 学问的基础 源于 máthema 科学 知识 学问 時間的長短等抽象的數量關係 比如时间单位有日 季節和年等 算術 加減乘除 也自然而然地產生了 歷史上曾有過許多不同的記數系統 在最初有歷史記錄的時候 為了解數字間的關係 為了測量土地 以及為了預測天文事件而形成的 结构 空间及时间方面的研究 到了 世纪 算术 微积分的概念也在此時形成 随着數學轉向形式化 從古至今 數學便一直不斷地延展 且與科學有豐富的相互作用 兩者的發展都受惠於彼此 在歷史上有著許多數學發現 並且直至今日都不斷地有新的發現 據mikhail sevryuk於 月的期刊中所說 數學評論的創刊年份 現已超過了一百九十萬份 而且每年還增加超過七萬五千份 旁邊的馬雅數字 一個黑點代表一 一條黑直線代表五 形成 純數學與應用數學及美學 牛頓 微積分的發明者之一 每當有涉及數量 結構 空間及變化等方面的困難問題時 而這往往也拓展了數學的研究範疇 一開始 數學的運用可見於貿易 土地測量及之後的天文學 今日 且數學本身亦給出了許多的問題 牛頓和莱布尼兹是微積分的發明者 費曼發明了費曼路徑積分 這是推理及物理洞察二者的產物 而今日的弦理論亦引申出新的數學 一些數學只和生成它的領域有關 且用來解答此領域的更多問題 且可以成為一般的數學概念 即使是 最純的 數學通常亦有實際的用途 此一非比尋常的事實 年諾貝爾物理獎得主維格納稱為 如同大多數的研究領域 主要的分歧為純數學和應用數學 在應用數學內 又被分成兩大領域 並且變成了它們自身的學科 統計學和電腦科學 許多數學家談論數學的 優美 其內在的美學及美 簡單 一般化 即為美的一種 另外亦包括巧妙的證明 又或者是加快計算的數值方法 如快速傅立葉變換 高德菲 哈羅德 哈代在 一個數學家的自白 符號 語言與精确性 在現代的符號中 此一圖像即產生自x cos arccos sin〡 arcsin cos〡 世紀後才被發明出來的 在此之前 數學以文字的形式書寫出來 這種形式會限制了數學的發展 但初學者卻常對此望而却步 它被極度的壓縮 少量的符號包含著大量的訊息 如同音樂符號一般 現今的數學符號有明確的語法 並且有效地對訊息作編碼 這是其他書寫方式難以做到的 符号化和形式化使得数学迅速发展 數學語言亦對初學者而言感到困難 亦困惱著初學者的 開放 等字在數學裡有著特別的意思 數學術語亦包括如 同胚 可積性 等專有名詞 數學需要比日常用語更多的精確性 嚴謹 但在现实应用中 定理 希臘人期許著仔細的論證 但在牛頓的時代 所使用的方法則較不嚴謹 牛頓為了解決問題所做的定義 今日 當大量的計算難以被驗證時 其證明亦很難說是足夠地嚴謹 公理在傳統的思想中是 不證自明的真理 但這種想法是有問題的 在形式上 公理只是一串符號 但依據哥德爾不完備定理 儘管如此 在此意義下 數學作為科學 卡爾 弗里德里希 高斯 卡爾 弗里德里希 高斯稱數學為 科學的皇后 在拉丁原文 以及其德語 對應於 科學 的單字的意思皆為知識 領域 而實際上 科學 若認為科学是只指物理的世界時 則數學 或至少是純數學 不會是一門科學 愛因斯坦曾如此描述 數學定律越和現實有關 它們越不確定 若它們越是確定的話 它們和現實越不會有關 且因此不是卡爾 波普爾所定義的科学 但在 年代時 且波普爾推斷 大部份的數學定律 如物理及生物學一樣 是假設演繹的 比它現在看起來更接近 然而 其他的思想家 如較著名的拉卡托斯 另一觀點則為某些科學領域 如理論物理 是其公理為嘗試著符合現實的數學 而事實上 理論物理學家齊曼 john ziman 即認為科學是一種公眾知識 因此亦包含著數學 在任何的情況下 減輕了數學不使用科學方法的缺點 在史蒂芬 沃爾夫勒姆 年的著作 一種新科學 中他提出 數學家對此的態度並不一致 且因此基本上是個哲學家 是低估了其美學方面的重要性 被創造 如藝術 或是 被發現 如科學 的爭議 大学院系划分中常见 科学和数学系 實際上 但在細節上卻會分開 數學的各領域 有如反映在中國算盤上的一般 如上所述 了解數字間的關係 測量土地及預測天文事件 這四種需要大致地與數量 結構 空間及變化 即算術 代數 幾何及分析 等數學上廣泛的子領域相關連著 除了上述主要的關注之外 至邏輯 至集合論 基礎 至不同科學的經驗上的數學 應用數學 及較近代的至不確定性的嚴格研究 基礎與哲學 為了闡明數學基礎 並研究此一架構的結果 就數學邏輯本身而言 總是存在不能被證明的真命題 現代邏輯被分成遞論 模型論和證明論 千禧年大獎難題中的p px px 數學邏輯 集合論 範疇論 纯粹数学 数量 數量的研究起於數 孿生質數猜想及哥德巴赫猜想 當數系更進一步發展時 整數被視為有理數的子集 而有理數則包含於實數中 連續的量即是以實數來表示的 實數則可以被進一步廣義化成複數 從自然數亦可以推廣到超限數 它形式化了計數至無限的這一概念 另一個研究的領域為大小 阿列夫数 自然數 整數 有理數 實數 複數 結構 這些物件的結構性質被探討於群 zh cn zh tw 等抽象系統中 該些物件事實上也就是這樣的系統 此為代數的領域 在此有一個很重要的概念 即廣義化至向量空間的向量 它於線性代數中被研究 數量 結構及空間 即變化 纯粹数学 是研究抽象结构的理论 结构 布尔巴基学派认为 有三种基本的抽象结构 代数结构 序结构 偏序 全序 拓扑结构 邻域 极限 连通性 维数 px px px px 數論 群論 圖論 序理論 空間 空間的研究源自於幾何 尤其是欧几里得几何 三角學則結合了空間及數 且包含有著名的勾股定理 非歐幾里得幾何 及拓撲學 數和空間在解析幾何 結合了數和空間的概念 亦有著拓撲群的研究 結合了結構與空間 李群被用來研究空間 結構及變化 在其許多分支中 並包含有存在已久的龐加萊猜想 以及有爭議的四色定理 龐加萊猜想已在 年确认由俄罗斯数学家格里戈里 佩雷尔曼證明 而四色定理已在 年由凱尼斯 阿佩爾和沃夫岡 哈肯用電腦證明 而從來沒有由人力來驗證過 px px px px px px 幾何 三角學 微分幾何 拓撲學 zh cn 分形 zh tw 碎形 測度論 變化 而微積分更為研究變化的有利工具 函數诞生於此 做為描述一變化的量的核心概念 而複分析則為複數的等價領域 黎曼猜想 數學最基本的未決問題之一 便是以複分析來描述的 泛函分析注重在函數的 一般為無限維 空間上 而這在微分方程中被研究 px px px px px px 微積分 向量分析 微分方程 動力系統 混沌理論 複分析 離散數學 這包含有可計算理論 計算複雜性理論及資訊理論 這包含現知最有力的模型 圖靈機 儘管電腦硬體的快速進步 最後 且因此有壓縮及熵等概念 作為一相對較新的領域 離散數學有許多基本的未解問題 其中最有名的為p np問題 千禧年大獎難題之一 一般相信此問題的解答是否定的 px px px 組合數學 計算理論 密碼學 圖論 應用數學 工商業及其他領域上之現實問題 應用數學中的一重要領域為統計學 分析與預測 大部份的實驗 而比較覺得是合作團體的一份子 數值分析研究有什麼計算方法 file gravitation space source png 數學物理 file svg 數學流體力學 file composite trapezoidal rule illustration small svg 數值分析 file maximum boxed png 最佳化 file two red dice svg 概率论 file oldfaithful png 統計學 file market data index nya on utc png 計量金融 file arbitrary gametree solved svg zh tw 賽局理論 zh cn 博弈论 file front pareto svg 數理經濟學 file signal transduction pathways zh cn svg 生物數學 file linear programming example graph zh png 作業研究 file simple feedback control loop svg 控制論 数学奖项 菲尔茲奖牌正面 數學獎通常和其他科學的獎項分開 數學上最有名的獎為菲爾茲獎 創立於 每四年頒獎一次 創立於 兩者都頒獎於特定的工作主題 著名的 個問題 稱為希爾伯特的 個問題 年由德國數學家大衛 希爾伯特所提出 另一新的七個重要問題 稱為千禧年大獎難題 發表於 而當中只有一個問題 黎曼猜想 和希爾伯特的問題重複 菲尔兹奖 每四年颁奖一次 颁给有卓越贡献的年轻数学家 每次最多四人得奖 得奖者须在该年元旦前未满四十岁 是年輕數學家可以獲得的最大獎項 它是据加拿大数学家约翰 查尔斯 菲尔兹的要求设立的 菲尔兹奖被视为 数学 界的诺贝尔奖 沃尔夫奖 由沃尔夫基金会颁发 该基金会于 年在以色列创立 年开始颁奖 创始人里卡多 沃尔夫是外交家 实业家和慈善家 阿贝尔奖 每年颁发一次 为了纪念 年挪威著名数学家尼尔斯 亨利克 阿贝尔二百周年诞辰 挪威政府宣布将开始颁发此种奖金 奖金的数额大致同诺贝尔奖相近 年挪威政府拨款 亿挪威克朗作为启动资金 扩大数学的影响 参见 數學哲學 數學遊戲 數學家列表 教育 算經十書 數學競賽 数学题 註記 参考书目 benson donald the moment of proof mathematical epiphanies oxford university press usa new ed edition december isbn boyer carl history of mathematics wiley edition march isbn concise history of mathematics from the concept of number to contemporary mathematics courant and robbins what is mathematics an elementary approach to ideas and methods oxford university press usa edition july isbn davis philip and hersh reuben the mathematical experience mariner books reprint edition january isbn gentle introduction to the world of mathematics eves howard an introduction to the history of mathematics sixth edition saunders isbn gullberg jan mathematics from the birth of numbers norton company st edition october isbn an encyclopedic overview of mathematics presented in clear simple language hazewinkel michiel ed 數學百科全書 kluwer academic publishers translated and expanded version of soviet mathematics encyclopedia in ten expensive volumes the most complete and authoritative work available also in paperback and on cd rom and online jourdain philip the nature of mathematics in the world of mathematics james newman editor dover isbn kline morris mathematical thought from ancient to modern times oxford university press usa paperback edition march isbn 牛津英語詞典 second edition ed john simpson and edmund weiner clarendon press isbn the oxford dictionary of english etymology reprint isbn pappas theoni the joy of mathematics wide world publishing revised edition june isbn peterson ivars mathematical tourist new and updated snapshots of modern mathematics owl books isbn 参考网址 rusin dave the mathematical atlas 英文版 现代数学漫游 weisstein eric world of mathematics 一个在线的数学百科全书 数学 另一个在线的数学百科全书 mathforge 一个包含数学 物理 epistemath 数学知识 香港科技大学 数学网 一个以数学史为主的网站 怎樣研習純數學 或統計學 本科與基礎研究課程參考書目 数学文化 主要面向大学生 大学老师和研究生 以及中学老师和学生 数学学习资源 互联网上数学学习资源和教学视频 英漢對照數學用語 archive 英漢對照數學用語 albany bureau of bilingual education see profile at archive\n",
      "\n"
     ]
    }
   ],
   "source": [
    "# Print the first line of the generated txt\n",
    "outputfile = 'D:\\data\\corpus\\zhwiki-20210201.txt'\n",
    "with open(outputfile, 'r') as f:\n",
    "    t = f.readline()\n",
    "    print(t)"
   ]
  },
  {
   "cell_type": "markdown",
   "metadata": {},
   "source": [
    "上面的兩段程式碼花了大約10幾分鐘的時間，將 2.08Gb （解壓縮大約 8.7Gb）內含 380,000 篇文章的 wikipedia dumps 轉為一個龐大的文字檔（1.28Gb），並且展示了檔案的第一行。我們可以發現，`WikiCorpus` 會將簡體、繁體以及其他語言的文字都混在一起（如果多看幾行還會發現德文跟拉丁文），其他的語言會在後續的處理中自動被忽略，但是簡體需要進一步的處理，否則簡繁體的同一個詞彙會被當做不同的兩個詞處理。\n",
    "\n",
    "[**Open Chinese Convert 開放中文轉換** (`OpenCC`)](https://github.com/BYVoid/OpenCC) 是簡單好用的簡繁轉換工具，簡單的用法：\n",
    "\n",
    "> import opencc\n",
    "\n",
    "> converter = opencc.OpenCC('s2t.json')\n",
    "\n",
    "> converter.convert('汉字')  # 漢字\n",
    "\n",
    "\n",
    "- hk2s: Traditional Chinese (Hong Kong standard) to Simplified Chinese\n",
    "- s2hk: Simplified Chinese to Traditional Chinese (Hong Kong standard)\n",
    "- s2t: Simplified Chinese to Traditional Chinese\n",
    "- s2tw: Simplified Chinese to Traditional Chinese (Taiwan standard)\n",
    "- s2twp: Simplified Chinese to Traditional Chinese (Taiwan standard, with phrases)\n",
    "- t2hk: Traditional Chinese to Traditional Chinese (Hong Kong standard)\n",
    "- t2s: Traditional Chinese to Simplified Chinese\n",
    "- t2tw: Traditional Chinese to Traditional Chinese (Taiwan standard)\n",
    "- tw2s: Traditional Chinese (Taiwan standard) to Simplified Chinese\n",
    "- tw2sp: Traditional Chinese (Taiwan standard) to Simplified Chinese (with phrases)"
   ]
  },
  {
   "cell_type": "code",
   "execution_count": 13,
   "metadata": {},
   "outputs": [],
   "source": [
    "import opencc\n",
    "converter = opencc.OpenCC('s2tw.json')\n",
    "\n",
    "inputfile = 'D:\\data\\corpus\\zhwiki-20210201.txt'\n",
    "outputfile = 'D:\\data\\corpus\\zhwiki-20210201-zhtw.txt'\n",
    "\n",
    "line_count = 0\n",
    "\n",
    "fout = open(outputfile, 'w')\n",
    "with open(inputfile, 'r') as fin:\n",
    "    while True:\n",
    "        line = fin.readline()\n",
    "        if not line:\n",
    "            break\n",
    "        newline = converter.convert(line)\n",
    "        fout.write(newline)\n",
    "        line_count += 1\n",
    "        if line_count % 10000 == 0:\n",
    "            print(\"已處理 %d 篇文章\" % line_count)\n",
    "fout.close()"
   ]
  },
  {
   "cell_type": "code",
   "execution_count": 14,
   "metadata": {},
   "outputs": [
    {
     "name": "stdout",
     "output_type": "stream",
     "text": [
      "歐幾裡得 西元前三世紀的古希臘數學家 現在被認為是幾何之父 此畫為拉斐爾的作品 雅典學院 數學 是利用符號語言研究數量 結構 變化以及空間等概念的一門學科 從某種角度看屬於形式科學的一種 數學透過抽象化和邏輯推理的使用 由計數 計算 數學家們拓展這些概念 對數學基本概念的完善 早在古埃及 而在古希臘那裡有更為嚴謹的處理 從那時開始 數學的發展便持續不斷地小幅進展 世紀的文藝復興時期 致使數學的加速發展 直至今日 今日 數學使用在不同的領域中 包括科學 工程 醫學 經濟學和金融學等 有時亦會激起新的數學發現 並導致全新學科的發展 數學家也研究純數學 就是數學本身的實質性內容 而不以任何實際應用為目標 雖然許多研究以純數學開始 但其過程中也發現許多應用之處 詞源 西方語言中 數學 一詞源自於古希臘語的 其有 學習 學問 科學 數學研究 即使在其語源內 其形容詞 意思為 和學習有關的 用功的 亦會被用來指 數學的 其在英語中表面上的複數形式 及在法語中的表面複數形式 可溯至拉丁文的中性複數 由西塞羅譯自希臘文複數 此一希臘語被亞里士多德拿來指 萬物皆數 的概念 漢字表示的 數學 一詞大約產生於中國宋元時期 多指象數之學 但有時也含有今天上的數學意義 例如 秦九韶的 數學九章 永樂大典 數書九章 也被宋代周密所著的 癸辛雜識 記為 數學大略 數學通軌 明代柯尚遷著 數學鑰 清代杜知耕著 數學拾遺 清代丁取忠撰 直到 經過中國數學名詞審查委員會研究 算學 數學 兩詞的使用狀況後 確認以 數學 表示今天意義上的數學含義 歷史 奇普 印加帝國時所使用的計數工具 瑪雅數字 數學有著久遠的歷史 中國古代的六藝之一就有 數學一詞在西方有希臘語詞源 mathematikós 意思是 學問的基礎 源於 máthema 科學 知識 學問 時間的長短等抽象的數量關係 比如時間單位有日 季節和年等 算術 加減乘除 也自然而然地產生了 歷史上曾有過許多不同的記數系統 在最初有歷史記錄的時候 為瞭解數字間的關係 為了測量土地 以及為了預測天文事件而形成的 結構 空間及時間方面的研究 到了 世紀 算術 微積分的概念也在此時形成 隨著數學轉向形式化 從古至今 數學便一直不斷地延展 且與科學有豐富的相互作用 兩者的發展都受惠於彼此 在歷史上有著許多數學發現 並且直至今日都不斷地有新的發現 據mikhail sevryuk於 月的期刊中所說 數學評論的創刊年份 現已超過了一百九十萬份 而且每年還增加超過七萬五千份 旁邊的馬雅數字 一個黑點代表一 一條黑直線代表五 形成 純數學與應用數學及美學 牛頓 微積分的發明者之一 每當有涉及數量 結構 空間及變化等方面的困難問題時 而這往往也拓展了數學的研究範疇 一開始 數學的運用可見於貿易 土地測量及之後的天文學 今日 且數學本身亦給出了許多的問題 牛頓和萊布尼茲是微積分的發明者 費曼發明瞭費曼路徑積分 這是推理及物理洞察二者的產物 而今日的弦理論亦引申出新的數學 一些數學只和生成它的領域有關 且用來解答此領域的更多問題 且可以成為一般的數學概念 即使是 最純的 數學通常亦有實際的用途 此一非比尋常的事實 年諾貝爾物理獎得主維格納稱為 如同大多數的研究領域 主要的分歧為純數學和應用數學 在應用數學內 又被分成兩大領域 並且變成了它們自身的學科 統計學和電腦科學 許多數學家談論數學的 優美 其內在的美學及美 簡單 一般化 即為美的一種 另外亦包括巧妙的證明 又或者是加快計算的數值方法 如快速傅立葉變換 高德菲 哈羅德 哈代在 一個數學家的自白 符號 語言與精確性 在現代的符號中 此一圖像即產生自x cos arccos sin〡 arcsin cos〡 世紀後才被發明出來的 在此之前 數學以文字的形式書寫出來 這種形式會限制了數學的發展 但初學者卻常對此望而卻步 它被極度的壓縮 少量的符號包含著大量的訊息 如同音樂符號一般 現今的數學符號有明確的語法 並且有效地對訊息作編碼 這是其他書寫方式難以做到的 符號化和形式化使得數學迅速發展 數學語言亦對初學者而言感到困難 亦困惱著初學者的 開放 等字在數學裡有著特別的意思 數學術語亦包括如 同胚 可積性 等專有名詞 數學需要比日常用語更多的精確性 嚴謹 但在現實應用中 定理 希臘人期許著仔細的論證 但在牛頓的時代 所使用的方法則較不嚴謹 牛頓為瞭解決問題所做的定義 今日 當大量的計算難以被驗證時 其證明亦很難說是足夠地嚴謹 公理在傳統的思想中是 不證自明的真理 但這種想法是有問題的 在形式上 公理只是一串符號 但依據哥德爾不完備定理 儘管如此 在此意義下 數學作為科學 卡爾 弗里德里希 高斯 卡爾 弗里德里希 高斯稱數學為 科學的皇后 在拉丁原文 以及其德語 對應於 科學 的單字的意思皆為知識 領域 而實際上 科學 若認為科學是隻指物理的世界時 則數學 或至少是純數學 不會是一門科學 愛因斯坦曾如此描述 數學定律越和現實有關 它們越不確定 若它們越是確定的話 它們和現實越不會有關 且因此不是卡爾 波普爾所定義的科學 但在 年代時 且波普爾推斷 大部份的數學定律 如物理及生物學一樣 是假設演繹的 比它現在看起來更接近 然而 其他的思想家 如較著名的拉卡託斯 另一觀點則為某些科學領域 如理論物理 是其公理為嘗試著符合現實的數學 而事實上 理論物理學家齊曼 john ziman 即認為科學是一種公眾知識 因此亦包含著數學 在任何的情況下 減輕了數學不使用科學方法的缺點 在史蒂芬 沃爾夫勒姆 年的著作 一種新科學 中他提出 數學家對此的態度並不一致 且因此基本上是個哲學家 是低估了其美學方面的重要性 被創造 如藝術 或是 被發現 如科學 的爭議 大學院系劃分中常見 科學和數學系 實際上 但在細節上卻會分開 數學的各領域 有如反映在中國算盤上的一般 如上所述 瞭解數字間的關係 測量土地及預測天文事件 這四種需要大致地與數量 結構 空間及變化 即算術 代數 幾何及分析 等數學上廣泛的子領域相關連著 除了上述主要的關注之外 至邏輯 至集合論 基礎 至不同科學的經驗上的數學 應用數學 及較近代的至不確定性的嚴格研究 基礎與哲學 為了闡明數學基礎 並研究此一架構的結果 就數學邏輯本身而言 總是存在不能被證明的真命題 現代邏輯被分成遞論 模型論和證明論 千禧年大獎難題中的p px px 數學邏輯 集合論 範疇論 純粹數學 數量 數量的研究起於數 孿生質數猜想及哥德巴赫猜想 當數系更進一步發展時 整數被視為有理數的子集 而有理數則包含於實數中 連續的量即是以實數來表示的 實數則可以被進一步廣義化成複數 從自然數亦可以推廣到超限數 它形式化了計數至無限的這一概念 另一個研究的領域為大小 阿列夫數 自然數 整數 有理數 實數 複數 結構 這些物件的結構性質被探討於群 zh cn zh tw 等抽象系統中 該些物件事實上也就是這樣的系統 此為代數的領域 在此有一個很重要的概念 即廣義化至向量空間的向量 它於線性代數中被研究 數量 結構及空間 即變化 純粹數學 是研究抽象結構的理論 結構 布爾巴基學派認為 有三種基本的抽象結構 代數結構 序結構 偏序 全序 拓撲結構 鄰域 極限 連通性 維數 px px px px 數論 群論 圖論 序理論 空間 空間的研究源自於幾何 尤其是歐幾里得幾何 三角學則結合了空間及數 且包含有著名的勾股定理 非歐幾裡得幾何 及拓撲學 數和空間在解析幾何 結合了數和空間的概念 亦有著拓撲群的研究 結合了結構與空間 李群被用來研究空間 結構及變化 在其許多分支中 並包含有存在已久的龐加萊猜想 以及有爭議的四色定理 龐加萊猜想已在 年確認由俄羅斯數學家格里戈裡 佩雷爾曼證明 而四色定理已在 年由凱尼斯 阿佩爾和沃夫岡 哈肯用電腦證明 而從來沒有由人力來驗證過 px px px px px px 幾何 三角學 微分幾何 拓撲學 zh cn 分形 zh tw 碎形 測度論 變化 而微積分更為研究變化的有利工具 函數誕生於此 做為描述一變化的量的核心概念 而複分析則為複數的等價領域 黎曼猜想 數學最基本的未決問題之一 便是以複分析來描述的 泛函分析注重在函數的 一般為無限維 空間上 而這在微分方程中被研究 px px px px px px 微積分 向量分析 微分方程 動力系統 混沌理論 複分析 離散數學 這包含有可計算理論 計算複雜性理論及資訊理論 這包含現知最有力的模型 圖靈機 儘管電腦硬體的快速進步 最後 且因此有壓縮及熵等概念 作為一相對較新的領域 離散數學有許多基本的未解問題 其中最有名的為p np問題 千禧年大獎難題之一 一般相信此問題的解答是否定的 px px px 組合數學 計算理論 密碼學 圖論 應用數學 工商業及其他領域上之現實問題 應用數學中的一重要領域為統計學 分析與預測 大部份的實驗 而比較覺得是合作團體的一份子 數值分析研究有什麼計算方法 file gravitation space source png 數學物理 file svg 數學流體力學 file composite trapezoidal rule illustration small svg 數值分析 file maximum boxed png 最佳化 file two red dice svg 概率論 file oldfaithful png 統計學 file market data index nya on utc png 計量金融 file arbitrary gametree solved svg zh tw 賽局理論 zh cn 博弈論 file front pareto svg 數理經濟學 file signal transduction pathways zh cn svg 生物數學 file linear programming example graph zh png 作業研究 file simple feedback control loop svg 控制論 數學獎項 菲爾茲獎牌正面 數學獎通常和其他科學的獎項分開 數學上最有名的獎為菲爾茲獎 創立於 每四年頒獎一次 創立於 兩者都頒獎於特定的工作主題 著名的 個問題 稱為希爾伯特的 個問題 年由德國數學家大衛 希爾伯特所提出 另一新的七個重要問題 稱為千禧年大獎難題 發表於 而當中只有一個問題 黎曼猜想 和希爾伯特的問題重複 菲爾茲獎 每四年頒獎一次 頒給有卓越貢獻的年輕數學家 每次最多四人得獎 得獎者須在該年元旦前未滿四十歲 是年輕數學家可以獲得的最大獎項 它是據加拿大數學家約翰 查爾斯 菲爾茲的要求設立的 菲爾茲獎被視為 數學 界的諾貝爾獎 沃爾夫獎 由沃爾夫基金會頒發 該基金會於 年在以色列創立 年開始頒獎 創始人裡卡多 沃爾夫是外交家 實業家和慈善家 阿貝爾獎 每年頒發一次 為了紀念 年挪威著名數學家尼爾斯 亨利克 阿貝爾二百週年誕辰 挪威政府宣佈將開始頒發此種獎金 獎金的數額大致同諾貝爾獎相近 年挪威政府撥款 億挪威克朗作為啟動資金 擴大數學的影響 參見 數學哲學 數學遊戲 數學家列表 教育 算經十書 數學競賽 數學題 註記 參考書目 benson donald the moment of proof mathematical epiphanies oxford university press usa new ed edition december isbn boyer carl history of mathematics wiley edition march isbn concise history of mathematics from the concept of number to contemporary mathematics courant and robbins what is mathematics an elementary approach to ideas and methods oxford university press usa edition july isbn davis philip and hersh reuben the mathematical experience mariner books reprint edition january isbn gentle introduction to the world of mathematics eves howard an introduction to the history of mathematics sixth edition saunders isbn gullberg jan mathematics from the birth of numbers norton company st edition october isbn an encyclopedic overview of mathematics presented in clear simple language hazewinkel michiel ed 數學百科全書 kluwer academic publishers translated and expanded version of soviet mathematics encyclopedia in ten expensive volumes the most complete and authoritative work available also in paperback and on cd rom and online jourdain philip the nature of mathematics in the world of mathematics james newman editor dover isbn kline morris mathematical thought from ancient to modern times oxford university press usa paperback edition march isbn 牛津英語詞典 second edition ed john simpson and edmund weiner clarendon press isbn the oxford dictionary of english etymology reprint isbn pappas theoni the joy of mathematics wide world publishing revised edition june isbn peterson ivars mathematical tourist new and updated snapshots of modern mathematics owl books isbn 參考網址 rusin dave the mathematical atlas 英文版 現代數學漫遊 weisstein eric world of mathematics 一個在線的數學百科全書 數學 另一個在線的數學百科全書 mathforge 一個包含數學 物理 epistemath 數學知識 香港科技大學 數學網 一個以數學史為主的網站 怎樣研習純數學 或統計學 本科與基礎研究課程參考書目 數學文化 主要面向大學生 大學老師和研究生 以及中學老師和學生 數學學習資源 互聯網上數學學習資源和教學視頻 英漢對照數學用語 archive 英漢對照數學用語 albany bureau of bilingual education see profile at archive\n",
      "\n"
     ]
    }
   ],
   "source": [
    "with open(outputfile, 'r') as f:\n",
    "    t = f.readline()\n",
    "    print(t)"
   ]
  },
  {
   "cell_type": "markdown",
   "metadata": {},
   "source": [
    "從第一行的結果看起來已經成功的轉換成繁體，接下來我們要進行分詞（word segmentation）的工作。\n",
    "\n",
    "\n",
    "## 斷詞（Word Segmentation）\n",
    "\n"
   ]
  }
 ],
 "metadata": {
  "kernelspec": {
   "display_name": "Python 3",
   "language": "python",
   "name": "python3"
  },
  "language_info": {
   "codemirror_mode": {
    "name": "ipython",
    "version": 3
   },
   "file_extension": ".py",
   "mimetype": "text/x-python",
   "name": "python",
   "nbconvert_exporter": "python",
   "pygments_lexer": "ipython3",
   "version": "3.7.9"
  }
 },
 "nbformat": 4,
 "nbformat_minor": 4
}
